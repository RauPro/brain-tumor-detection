{
 "cells": [
  {
   "cell_type": "code",
   "execution_count": null,
   "outputs": [],
   "source": [
    "MODEL_DIR = \"C:\\\\Users\\\\kira2\\\\OneDrive\\\\Desktop\\\\brain_tumor_detection\\\\0001\""
   ],
   "metadata": {
    "collapsed": false,
    "pycharm": {
     "is_executing": true
    }
   }
  },
  {
   "cell_type": "code",
   "execution_count": null,
   "metadata": {
    "collapsed": true,
    "pycharm": {
     "is_executing": true
    }
   },
   "outputs": [],
   "source": [
    "import cv2\n",
    "import numpy as np\n",
    "# read image\n",
    "#aug_N_29_0_1290.jpg\n",
    "img = cv2.imread('unpapaxd.jpg', cv2.IMREAD_UNCHANGED)\n",
    "\n",
    "# get dimensions of image\n",
    "dimensions = img.shape\n",
    "image = cv2.resize(img, dsize=(240, 240),\n",
    "                   interpolation=cv2.INTER_CUBIC)\n",
    "image = image / 255.\n"
   ]
  },
  {
   "cell_type": "code",
   "execution_count": null,
   "outputs": [],
   "source": [
    "\n",
    "import json\n",
    "import requests\n",
    "\n",
    "BASE_URL = \"http://localhost:8501/v1/models/brain_tumor_detection:predict\"\n",
    "\n",
    "# change the matrix\n",
    "instances_to_send = image.reshape((1,)+image.shape).tolist()\n",
    "\n",
    "request_json = json.dumps({\n",
    "   \"signature_name\": \"serving_default\",\n",
    "   \"instances\": instances_to_send\n",
    "})\n",
    "\n",
    "response = requests.post(BASE_URL, data=request_json)\n",
    "response.raise_for_status()\n",
    "response = response.json()\n",
    "\n",
    "print(response)"
   ],
   "metadata": {
    "collapsed": false,
    "pycharm": {
     "is_executing": true
    }
   }
  },
  {
   "cell_type": "code",
   "execution_count": null,
   "outputs": [],
   "source": [],
   "metadata": {
    "collapsed": false
   }
  },
  {
   "cell_type": "code",
   "execution_count": null,
   "outputs": [],
   "source": [
    "import tensorflow as tf\n",
    "from tensorflow import keras\n",
    "new_model = tf.keras.models.load_model(MODEL_DIR)"
   ],
   "metadata": {
    "collapsed": false
   }
  }
 ],
 "metadata": {
  "kernelspec": {
   "name": "pycharm-bf934084",
   "language": "python",
   "display_name": "PyCharm (brain_tumor_detection)"
  },
  "language_info": {
   "codemirror_mode": {
    "name": "ipython",
    "version": 2
   },
   "file_extension": ".py",
   "mimetype": "text/x-python",
   "name": "python",
   "nbconvert_exporter": "python",
   "pygments_lexer": "ipython2",
   "version": "2.7.6"
  }
 },
 "nbformat": 4,
 "nbformat_minor": 0
}
