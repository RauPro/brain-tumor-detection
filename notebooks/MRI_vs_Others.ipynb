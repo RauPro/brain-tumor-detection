{
  "nbformat": 4,
  "nbformat_minor": 0,
  "metadata": {
    "colab": {
      "provenance": []
    },
    "kernelspec": {
      "name": "python3",
      "display_name": "Python 3"
    },
    "language_info": {
      "name": "python"
    }
  },
  "cells": [
    {
      "cell_type": "code",
      "execution_count": null,
      "metadata": {
        "id": "_Qc72I2zp2rS"
      },
      "outputs": [],
      "source": [
        "import os\n",
        "import zipfile\n",
        "import random\n",
        "import shutil\n",
        "import tensorflow as tf\n",
        "from tensorflow.keras.preprocessing.image import ImageDataGenerator\n",
        "from shutil import copyfile\n",
        "import matplotlib.pyplot as plt"
      ]
    },
    {
      "cell_type": "code",
      "source": [
        "ls"
      ],
      "metadata": {
        "colab": {
          "base_uri": "https://localhost:8080/"
        },
        "id": "pUSobhYnq_nD",
        "outputId": "4cd54708-406a-4121-883b-a99fe5bab98b"
      },
      "execution_count": null,
      "outputs": [
        {
          "output_type": "stream",
          "name": "stdout",
          "text": [
            "MRI-vs-Others.zip  \u001b[0m\u001b[01;34msample_data\u001b[0m/\n"
          ]
        }
      ]
    },
    {
      "cell_type": "code",
      "source": [
        "local_zip = 'MRI-vs-Others.zip'\n",
        "zip_ref   = zipfile.ZipFile(local_zip, 'r')\n",
        "zip_ref.extractall('/tmp')\n",
        "zip_ref.close()"
      ],
      "metadata": {
        "id": "RYYY9cQEqdx0"
      },
      "execution_count": null,
      "outputs": []
    },
    {
      "cell_type": "code",
      "source": [
        "ls"
      ],
      "metadata": {
        "colab": {
          "base_uri": "https://localhost:8080/"
        },
        "id": "UIHtentMrTQL",
        "outputId": "b0ec4e22-70c7-4ef7-ab14-df842f7f1267"
      },
      "execution_count": null,
      "outputs": [
        {
          "output_type": "stream",
          "name": "stdout",
          "text": [
            "MRI-vs-Others.zip  \u001b[0m\u001b[01;34msample_data\u001b[0m/\n"
          ]
        }
      ]
    },
    {
      "cell_type": "code",
      "source": [
        "source_path = '/tmp'\n",
        "\n",
        "source_path_others = os.path.join(source_path, 'whaever')\n",
        "source_path_mri = os.path.join(source_path, 'MRI')\n",
        "\n",
        "# os.listdir returns a list containing all files under the given path\n",
        "print(f\"There are {len(os.listdir(source_path_mri))} images of MRI.\")\n",
        "print(f\"There are {len(os.listdir(source_path_others))} images of Others.\")"
      ],
      "metadata": {
        "colab": {
          "base_uri": "https://localhost:8080/"
        },
        "id": "HoUpmQW3reF6",
        "outputId": "24413da7-aa59-44b3-9412-263e395fe3ff"
      },
      "execution_count": null,
      "outputs": [
        {
          "output_type": "stream",
          "name": "stdout",
          "text": [
            "There are 253 images of MRI.\n",
            "There are 253 images of Others.\n"
          ]
        }
      ]
    },
    {
      "cell_type": "code",
      "source": [
        "# Define root directory\n",
        "root_dir = '/tmp/MRI-vs-Others'\n",
        "\n",
        "if os.path.exists(root_dir):\n",
        "  shutil.rmtree(root_dir)\n",
        "\n",
        "def create_train_val_dirs(root_path):\n",
        "  \"\"\"\n",
        "  Creates directories for the train and test sets\n",
        "\n",
        "  Args:\n",
        "    root_path (string) - the base directory path to create subdirectories from\n",
        "\n",
        "  Returns:\n",
        "    None\n",
        "  \"\"\"\n",
        "  os.mkdir(os.path.join(root_dir))\n",
        "  os.mkdir(os.path.join(root_dir,\"training\"))\n",
        "  os.mkdir(os.path.join(root_dir,\"validation\"))\n",
        "  os.mkdir(os.path.join(root_dir,\"training\", \"mri\"))\n",
        "  os.mkdir(os.path.join(root_dir,\"validation\", \"mri\"))\n",
        "  os.mkdir(os.path.join(root_dir,\"training\",\"others\"))\n",
        "  os.mkdir(os.path.join(root_dir,\"validation\",\"others\"))\n",
        "\n",
        "try:\n",
        "  create_train_val_dirs(root_path=root_dir)\n",
        "except FileExistsError:\n",
        "  print(\"You should not be seeing this since the upper directory is removed beforehand\")"
      ],
      "metadata": {
        "id": "SKZQS_o9r_bG"
      },
      "execution_count": null,
      "outputs": []
    },
    {
      "cell_type": "code",
      "source": [
        "for rootdir, dirs, files in os.walk(root_dir):\n",
        "    for subdir in dirs:\n",
        "        print(os.path.join(rootdir, subdir))"
      ],
      "metadata": {
        "colab": {
          "base_uri": "https://localhost:8080/"
        },
        "id": "0PaeUZd2sskl",
        "outputId": "b2cb9342-850b-4932-d58f-1f9d1f221ff1"
      },
      "execution_count": null,
      "outputs": [
        {
          "output_type": "stream",
          "name": "stdout",
          "text": [
            "/tmp/MRI-vs-Others/training\n",
            "/tmp/MRI-vs-Others/validation\n",
            "/tmp/MRI-vs-Others/training/others\n",
            "/tmp/MRI-vs-Others/training/mri\n",
            "/tmp/MRI-vs-Others/validation/others\n",
            "/tmp/MRI-vs-Others/validation/mri\n"
          ]
        }
      ]
    },
    {
      "cell_type": "code",
      "source": [
        "def split_data(SOURCE_DIR, TRAINING_DIR, VALIDATION_DIR, SPLIT_SIZE):\n",
        "  \"\"\"\n",
        "  Splits the data into train and test sets\n",
        "\n",
        "  Args:\n",
        "    SOURCE_DIR (string): directory path containing the images\n",
        "    TRAINING_DIR (string): directory path to be used for training\n",
        "    VALIDATION_DIR (string): directory path to be used for validation\n",
        "    SPLIT_SIZE (float): proportion of the dataset to be used for training\n",
        "\n",
        "  Returns:\n",
        "    None\n",
        "  \"\"\"\n",
        "  img_files = os.listdir(os.path.join(SOURCE_DIR))\n",
        "  total_index = len(img_files)\n",
        "  train_index = int(total_index * SPLIT_SIZE)\n",
        "  train_files = img_files[:train_index]\n",
        "  validation_files = img_files[train_index:]\n",
        "  for file in train_files:\n",
        "    if os.path.getsize(os.path.join(SOURCE_DIR, file)) == 0:\n",
        "      print(f'{file} is zero length, so ignoring.')\n",
        "    else:\n",
        "      shutil.copy(os.path.join(SOURCE_DIR, file),\n",
        "                  os.path.join(TRAINING_DIR, file))\n",
        "  for file in validation_files:\n",
        "    if os.path.getsize(os.path.join(SOURCE_DIR, file)) == 0:\n",
        "      print(f'{file} is zero length, so ignoring.')\n",
        "    else:\n",
        "      shutil.copy(os.path.join(SOURCE_DIR, file),\n",
        "                os.path.join(VALIDATION_DIR, file))"
      ],
      "metadata": {
        "id": "02ZHcSnLs4w3"
      },
      "execution_count": null,
      "outputs": []
    },
    {
      "cell_type": "code",
      "source": [
        "MRI_SOURCE_DIR = source_path_mri\n",
        "OTHERS_SOURCE_DIR = source_path_others\n",
        "\n",
        "TRAINING_DIR = \"/tmp/MRI-vs-Others/training\"\n",
        "VALIDATION_DIR = \"/tmp/MRI-vs-Others/validation\"\n",
        "\n",
        "TRAINING_MRI_DIR = os.path.join(TRAINING_DIR, \"mri/\")\n",
        "VALIDATION_MRI_DIR = os.path.join(VALIDATION_DIR, \"mri/\")\n",
        "\n",
        "TRAINING_OTHERS_DIR = os.path.join(TRAINING_DIR, \"others/\")\n",
        "VALIDATION_OTHERS_DIR = os.path.join(VALIDATION_DIR, \"others/\")\n",
        "\n",
        "# Empty directories in case you run this cell multiple times\n",
        "if len(os.listdir(TRAINING_MRI_DIR)) > 0:\n",
        "  for file in os.scandir(TRAINING_MRI_DIR):\n",
        "    os.remove(file.path)\n",
        "if len(os.listdir(TRAINING_OTHERS_DIR)) > 0:\n",
        "  for file in os.scandir(TRAINING_OTHERS_DIR):\n",
        "    os.remove(file.path)\n",
        "if len(os.listdir(VALIDATION_MRI_DIR)) > 0:\n",
        "  for file in os.scandir(VALIDATION_MRI_DIR):\n",
        "    os.remove(file.path)\n",
        "if len(os.listdir(VALIDATION_OTHERS_DIR)) > 0:\n",
        "  for file in os.scandir(VALIDATION_OTHERS_DIR):\n",
        "    os.remove(file.path)\n",
        "\n",
        "# Define proportion of images used for training\n",
        "split_size = .75\n",
        "\n",
        "# Run the function\n",
        "# NOTE: Messages about zero length images should be printed out\n",
        "split_data(MRI_SOURCE_DIR, TRAINING_MRI_DIR, VALIDATION_MRI_DIR, split_size)\n",
        "split_data(OTHERS_SOURCE_DIR, TRAINING_OTHERS_DIR, VALIDATION_OTHERS_DIR, split_size)\n",
        "\n",
        "# Your function should perform copies rather than moving images so original directories should contain unchanged images\n",
        "print(f\"\\n\\nOriginal MRI directory has {len(os.listdir(MRI_SOURCE_DIR))} images\")\n",
        "print(f\"Original Others directory has {len(os.listdir(OTHERS_SOURCE_DIR))} images\\n\")\n",
        "\n",
        "# Training and validation splits. Check that the number of images matches the expected output.\n",
        "print(f\"There are {len(os.listdir(TRAINING_MRI_DIR))} images of MRI for training\")\n",
        "print(f\"There are {len(os.listdir(TRAINING_OTHERS_DIR))} images of Others for training\")\n",
        "print(f\"There are {len(os.listdir(VALIDATION_MRI_DIR))} images of MRI for validation\")\n",
        "print(f\"There are {len(os.listdir(VALIDATION_OTHERS_DIR))} images of Others for validation\")"
      ],
      "metadata": {
        "colab": {
          "base_uri": "https://localhost:8080/"
        },
        "id": "MdRLrvhhtBao",
        "outputId": "a1323fa8-101e-46df-9647-0e78e8221513"
      },
      "execution_count": null,
      "outputs": [
        {
          "output_type": "stream",
          "name": "stdout",
          "text": [
            "\n",
            "\n",
            "Original MRI directory has 253 images\n",
            "Original Others directory has 253 images\n",
            "\n",
            "There are 189 images of MRI for training\n",
            "There are 189 images of Others for training\n",
            "There are 64 images of MRI for validation\n",
            "There are 64 images of Others for validation\n"
          ]
        }
      ]
    },
    {
      "cell_type": "code",
      "source": [
        "from os import listdir\n",
        "import cv2\n",
        "def augment_data(file_dir, n_generated_samples, save_to_dir):\n",
        "\n",
        "    data_gen = ImageDataGenerator(rescale=1.0/255., rotation_range=10,\n",
        "                                  width_shift_range=0.1,\n",
        "                                  height_shift_range=0.1,\n",
        "                                  shear_range=0.1,\n",
        "                                  brightness_range=(0.3, 1.0),\n",
        "                                  zoom_range=0.2,\n",
        "                                  horizontal_flip=True,\n",
        "                                  vertical_flip=True,\n",
        "                                  fill_mode='nearest'\n",
        "                                 )\n",
        "\n",
        "\n",
        "    for filename in listdir(file_dir):\n",
        "        image = cv2.imread(file_dir + '/' + filename)\n",
        "        image = image.reshape((1,)+image.shape)\n",
        "        save_prefix = 'aug_' + filename[:-4]\n",
        "        i=0\n",
        "        for batch in data_gen.flow(x=image, batch_size=1, save_to_dir=save_to_dir,\n",
        "                                           save_prefix=save_prefix, save_format='jpg'):\n",
        "            i += 1\n",
        "            if i > n_generated_samples:\n",
        "                break"
      ],
      "metadata": {
        "id": "rg9lh5QUdZoS"
      },
      "execution_count": null,
      "outputs": []
    },
    {
      "cell_type": "code",
      "source": [
        "MRI_path = \"/tmp/MRI-vs-Others/training/mri\"\n",
        "others_path = \"/tmp/MRI-vs-Others/training/others\"\n",
        "\n",
        "\n",
        "augmented_data_path = 'augmented/'\n",
        "if os.path.exists(augmented_data_path):\n",
        "  shutil.rmtree(augmented_data_path)\n",
        "os.mkdir(os.path.join(augmented_data_path))\n",
        "os.mkdir(os.path.join(augmented_data_path+'mri'))\n",
        "os.mkdir(os.path.join(augmented_data_path+'others'))\n",
        "augment_data(file_dir=MRI_path, n_generated_samples=10, save_to_dir=augmented_data_path+'mri')\n",
        "augment_data(file_dir=others_path, n_generated_samples=10, save_to_dir=augmented_data_path+'others')"
      ],
      "metadata": {
        "id": "2fgS8U-sd5Mb"
      },
      "execution_count": null,
      "outputs": []
    },
    {
      "cell_type": "code",
      "source": [
        "def data_summary(main_path):\n",
        "\n",
        "    MRI_path = 'augmented/mri/'\n",
        "    others_path = 'augmented/others/'\n",
        "\n",
        "    m_mri = len(listdir(MRI_path))\n",
        "    m_others = len(listdir(others_path))\n",
        "    m = (m_mri+m_others)\n",
        "\n",
        "    pos_prec = (m_mri* 100.0)/ m\n",
        "    neg_prec = (m_others* 100.0)/ m\n",
        "\n",
        "    print(f\"Number of examples: {m}\")\n",
        "    print(f\"Percentage of MRI examples: {pos_prec}%, Number of pos examples: {m_mri}\")\n",
        "    print(f\"Percentage of Others examples: {neg_prec}%, Number of neg examples: {m_others}\")\n",
        "data_summary(augmented_data_path)"
      ],
      "metadata": {
        "colab": {
          "base_uri": "https://localhost:8080/"
        },
        "id": "KLaEwFkqetx5",
        "outputId": "bb90f92c-194e-4a18-d9b8-5592d7614e6a"
      },
      "execution_count": null,
      "outputs": [
        {
          "output_type": "stream",
          "name": "stdout",
          "text": [
            "Number of examples: 4157\n",
            "Percentage of MRI examples: 49.98797209526101%, Number of pos examples: 2078\n",
            "Percentage of Others examples: 50.01202790473899%, Number of neg examples: 2079\n"
          ]
        }
      ]
    },
    {
      "cell_type": "code",
      "source": [
        "# grader-required-cell\n",
        "\n",
        "# GRADED FUNCTION: train_val_generators\n",
        "def train_val_generators(TRAINING_DIR, VALIDATION_DIR):\n",
        "  train_datagen = ImageDataGenerator(rescale=1.0/255.,\n",
        "                                     rotation_range=40,\n",
        "                                     width_shift_range=0.2,\n",
        "                                     height_shift_range=0.2,\n",
        "                                     shear_range=0.2,\n",
        "                                     zoom_range=0.2,\n",
        "                                     horizontal_flip=0.2,\n",
        "                                     fill_mode=\"nearest\")\n",
        "\n",
        "  # Pass in the appropriate arguments to the flow_from_directory method\n",
        "  train_generator = train_datagen.flow_from_directory(directory=TRAINING_DIR,\n",
        "                                                      batch_size=32,\n",
        "                                                      class_mode=\"binary\",\n",
        "                                                      target_size=(240, 240))\n",
        "\n",
        "  # Instantiate the ImageDataGenerator class (don't forget to set the rescale argument)\n",
        "  validation_datagen = ImageDataGenerator(1.0/255.)\n",
        "\n",
        "  # Pass in the appropriate arguments to the flow_from_directory method\n",
        "  validation_generator = validation_datagen.flow_from_directory(directory=VALIDATION_DIR,\n",
        "                                                                batch_size=32,\n",
        "                                                                class_mode=\"binary\",\n",
        "                                                                target_size=(240, 240))\n",
        "  ### END CODE HERE\n",
        "  return train_generator, validation_generator"
      ],
      "metadata": {
        "id": "3AoCyNiiNics"
      },
      "execution_count": null,
      "outputs": []
    },
    {
      "cell_type": "code",
      "source": [
        "train_generator, validation_generator = train_val_generators(augmented_data_path, VALIDATION_DIR)"
      ],
      "metadata": {
        "colab": {
          "base_uri": "https://localhost:8080/"
        },
        "id": "yH9CP15UOXWL",
        "outputId": "db8c8b78-b6e4-40c1-c92d-8299630c4ad7"
      },
      "execution_count": null,
      "outputs": [
        {
          "output_type": "stream",
          "name": "stdout",
          "text": [
            "Found 4157 images belonging to 2 classes.\n",
            "Found 128 images belonging to 2 classes.\n"
          ]
        }
      ]
    },
    {
      "cell_type": "code",
      "source": [
        "train_generator.samples"
      ],
      "metadata": {
        "colab": {
          "base_uri": "https://localhost:8080/"
        },
        "id": "zZ6q_4q_bfSr",
        "outputId": "9aeb2ab6-4261-459b-a6f0-ca1990a9bfb5"
      },
      "execution_count": null,
      "outputs": [
        {
          "output_type": "execute_result",
          "data": {
            "text/plain": [
              "4157"
            ]
          },
          "metadata": {},
          "execution_count": 15
        }
      ]
    },
    {
      "cell_type": "code",
      "source": [
        "from tensorflow.keras.layers import Conv2D, MaxPooling2D, Flatten, Dense, Dropout, BatchNormalization\n",
        "from tensorflow.keras import layers, models, regularizers\n",
        "\n",
        "def create_model():\n",
        "\n",
        "  model = tf.keras.models.Sequential([\n",
        "    layers.Conv2D(32, (3, 3), activation='relu', input_shape=(240, 240, 3)),\n",
        "    BatchNormalization(),\n",
        "    layers.MaxPooling2D((2, 2)),\n",
        "    layers.Conv2D(64, (3, 3), activation='relu'),\n",
        "    BatchNormalization(),\n",
        "    layers.MaxPooling2D((2, 2)),\n",
        "    layers.Conv2D(128, (3, 3), activation='relu'),\n",
        "    BatchNormalization(),\n",
        "    layers.MaxPooling2D((2, 2)),\n",
        "    layers.Conv2D(128, (3, 3), activation='relu'),\n",
        "    BatchNormalization(),\n",
        "    layers.MaxPooling2D((2, 2)),\n",
        "    layers.Flatten(),\n",
        "    layers.Dropout(0.5),\n",
        "    layers.Dense(512, activation='relu', kernel_regularizer=regularizers.L1L2(l1=0.001, l2=0.001)),\n",
        "    layers.Dense(1, activation='sigmoid')\n",
        "  ])\n",
        "\n",
        "\n",
        "  model.compile(loss='binary_crossentropy',\n",
        "              optimizer=tf.keras.optimizers.RMSprop(learning_rate=0.001),\n",
        "              metrics=['accuracy'])                                                                                       4\n",
        "  return model"
      ],
      "metadata": {
        "id": "jWOBu0d3OeEI"
      },
      "execution_count": null,
      "outputs": []
    },
    {
      "cell_type": "code",
      "source": [
        "model = create_model()\n",
        "\n",
        "\n",
        "history = model.fit(train_generator,\n",
        "                    steps_per_epoch=100,\n",
        "                    epochs=15,\n",
        "                    verbose=1,\n",
        "                    validation_data=validation_generator)"
      ],
      "metadata": {
        "colab": {
          "base_uri": "https://localhost:8080/"
        },
        "id": "Ec2HkNltO7Ea",
        "outputId": "b03f5568-6476-458f-922d-19432ed0fc0a"
      },
      "execution_count": null,
      "outputs": [
        {
          "output_type": "stream",
          "name": "stdout",
          "text": [
            "Epoch 1/15\n",
            "100/100 [==============================] - 782s 8s/step - loss: 24.2585 - accuracy: 0.9178 - val_loss: 28.5333 - val_accuracy: 0.8203\n",
            "Epoch 2/15\n",
            "100/100 [==============================] - 779s 8s/step - loss: 7.4180 - accuracy: 0.9409 - val_loss: 73.9344 - val_accuracy: 0.5000\n",
            "Epoch 3/15\n",
            "100/100 [==============================] - 779s 8s/step - loss: 6.6260 - accuracy: 0.9421 - val_loss: 98.2712 - val_accuracy: 0.6719\n",
            "Epoch 4/15\n",
            "100/100 [==============================] - 783s 8s/step - loss: 5.9091 - accuracy: 0.9663 - val_loss: 17.9031 - val_accuracy: 0.8516\n",
            "Epoch 5/15\n",
            "100/100 [==============================] - 801s 8s/step - loss: 5.8632 - accuracy: 0.9622 - val_loss: 212.2797 - val_accuracy: 0.6172\n",
            "Epoch 6/15\n",
            "100/100 [==============================] - 796s 8s/step - loss: 5.7277 - accuracy: 0.9722 - val_loss: 340.5931 - val_accuracy: 0.5000\n",
            "Epoch 7/15\n",
            "100/100 [==============================] - 791s 8s/step - loss: 5.5851 - accuracy: 0.9812 - val_loss: 22.3011 - val_accuracy: 0.9297\n",
            "Epoch 8/15\n",
            "100/100 [==============================] - 734s 7s/step - loss: 5.5680 - accuracy: 0.9787 - val_loss: 192.7667 - val_accuracy: 0.6875\n",
            "Epoch 9/15\n",
            "100/100 [==============================] - 698s 7s/step - loss: 5.6516 - accuracy: 0.9822 - val_loss: 240.8882 - val_accuracy: 0.5859\n",
            "Epoch 10/15\n",
            "100/100 [==============================] - 700s 7s/step - loss: 5.4852 - accuracy: 0.9850 - val_loss: 296.7571 - val_accuracy: 0.5000\n",
            "Epoch 11/15\n",
            "100/100 [==============================] - 694s 7s/step - loss: 5.5890 - accuracy: 0.9847 - val_loss: 76.0633 - val_accuracy: 0.8750\n",
            "Epoch 12/15\n",
            "100/100 [==============================] - 693s 7s/step - loss: 5.5074 - accuracy: 0.9847 - val_loss: 43.2328 - val_accuracy: 0.9141\n",
            "Epoch 13/15\n",
            "100/100 [==============================] - 697s 7s/step - loss: 5.4719 - accuracy: 0.9865 - val_loss: 115.9892 - val_accuracy: 0.6641\n",
            "Epoch 14/15\n",
            "100/100 [==============================] - 698s 7s/step - loss: 5.4789 - accuracy: 0.9875 - val_loss: 38.0416 - val_accuracy: 0.9141\n",
            "Epoch 15/15\n",
            "100/100 [==============================] - 701s 7s/step - loss: 5.4352 - accuracy: 0.9912 - val_loss: 205.9144 - val_accuracy: 0.6250\n"
          ]
        }
      ]
    },
    {
      "cell_type": "code",
      "source": [
        "model_name = \"mri-vs-others\"\n",
        "model_version = \"0001\"\n",
        "model_path = os.path.join(model_name, model_version)\n",
        "model.save(model_path, save_format=\"tf\")"
      ],
      "metadata": {
        "colab": {
          "base_uri": "https://localhost:8080/"
        },
        "id": "qrQCPK4jaPZG",
        "outputId": "f9257640-7dfb-45ac-bbea-a4492d2b578a"
      },
      "execution_count": null,
      "outputs": [
        {
          "output_type": "stream",
          "name": "stderr",
          "text": [
            "WARNING:absl:Found untraced functions such as _jit_compiled_convolution_op, _jit_compiled_convolution_op, _jit_compiled_convolution_op, _jit_compiled_convolution_op, _update_step_xla while saving (showing 5 of 5). These functions will not be directly callable after loading.\n"
          ]
        }
      ]
    },
    {
      "cell_type": "code",
      "source": [
        "ls"
      ],
      "metadata": {
        "colab": {
          "base_uri": "https://localhost:8080/"
        },
        "id": "QSqD4IBlagxt",
        "outputId": "eaa1574a-833c-4841-ec07-135dcbb781b5"
      },
      "execution_count": null,
      "outputs": [
        {
          "output_type": "stream",
          "name": "stdout",
          "text": [
            "\u001b[0m\u001b[01;34maugmented\u001b[0m/  \u001b[01;34mmri-vs-others\u001b[0m/  MRI-vs-Others.zip  \u001b[01;34msample_data\u001b[0m/\n"
          ]
        }
      ]
    },
    {
      "cell_type": "code",
      "source": [
        "!zip -r file.zip /content/mri-vs-others"
      ],
      "metadata": {
        "colab": {
          "base_uri": "https://localhost:8080/"
        },
        "id": "4Qslq51gakV1",
        "outputId": "f42926bf-65c0-42fd-f701-2e9a3631c1ef"
      },
      "execution_count": null,
      "outputs": [
        {
          "output_type": "stream",
          "name": "stdout",
          "text": [
            "  adding: content/mri-vs-others/ (stored 0%)\n",
            "  adding: content/mri-vs-others/0001/ (stored 0%)\n",
            "  adding: content/mri-vs-others/0001/variables/ (stored 0%)\n",
            "  adding: content/mri-vs-others/0001/variables/variables.index (deflated 67%)\n",
            "  adding: content/mri-vs-others/0001/variables/variables.data-00000-of-00001 (deflated 14%)\n",
            "  adding: content/mri-vs-others/0001/saved_model.pb (deflated 89%)\n",
            "  adding: content/mri-vs-others/0001/assets/ (stored 0%)\n",
            "  adding: content/mri-vs-others/0001/keras_metadata.pb (deflated 93%)\n",
            "  adding: content/mri-vs-others/0001/fingerprint.pb (stored 0%)\n"
          ]
        }
      ]
    },
    {
      "cell_type": "code",
      "source": [
        "from IPython.display import FileLink\n",
        "FileLink(r'file.zip')"
      ],
      "metadata": {
        "colab": {
          "base_uri": "https://localhost:8080/",
          "height": 34
        },
        "id": "yJjMm-9na8M0",
        "outputId": "2570a780-77f8-43c8-f064-99c8c8f24c75"
      },
      "execution_count": null,
      "outputs": [
        {
          "output_type": "execute_result",
          "data": {
            "text/plain": [
              "/content/file.zip"
            ],
            "text/html": [
              "<a href='file.zip' target='_blank'>file.zip</a><br>"
            ]
          },
          "metadata": {},
          "execution_count": 23
        }
      ]
    }
  ]
}