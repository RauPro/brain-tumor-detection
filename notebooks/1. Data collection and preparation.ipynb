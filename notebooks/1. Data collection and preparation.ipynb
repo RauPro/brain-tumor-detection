{
 "cells": [
  {
   "cell_type": "code",
   "execution_count": 15,
   "metadata": {
    "collapsed": true,
    "pycharm": {
     "name": "#%%\n"
    }
   },
   "outputs": [],
   "source": [
    "import src.utils as utils\n",
    "import matplotlib.pyplot as plt"
   ]
  },
  {
   "cell_type": "code",
   "execution_count": 16,
   "outputs": [
    {
     "name": "stdout",
     "output_type": "stream",
     "text": [
      "Total of yes instances:  155\n",
      "Total of no instances:  98\n"
     ]
    }
   ],
   "source": [
    "# Count the number of instances in the dataset\n",
    "raw_data = \"../data/raw\"\n",
    "print(\"Total of yes instances: \", utils.data_processing.count_instances(raw_data+'/yes'))\n",
    "print(\"Total of no instances: \", utils.data_processing.count_instances(raw_data+'/no'))"
   ],
   "metadata": {
    "collapsed": false,
    "pycharm": {
     "name": "#%%\n"
    }
   }
  },
  {
   "cell_type": "code",
   "execution_count": 17,
   "outputs": [
    {
     "data": {
      "text/plain": "'Success in making the Y_ renamed dataset.'"
     },
     "execution_count": 17,
     "metadata": {},
     "output_type": "execute_result"
    }
   ],
   "source": [
    "from src.data.make_dataset import make_renamed_dataset\n",
    "make_renamed_dataset(raw_data+'/yes', \"../data/interim/yes\", \"Y_\")"
   ],
   "metadata": {
    "collapsed": false,
    "pycharm": {
     "name": "#%%\n"
    }
   }
  },
  {
   "cell_type": "code",
   "execution_count": 18,
   "outputs": [
    {
     "data": {
      "text/plain": "'Success in making the N_ renamed dataset.'"
     },
     "execution_count": 18,
     "metadata": {},
     "output_type": "execute_result"
    }
   ],
   "source": [
    "import src.data as data\n",
    "data.make_renamed_dataset(raw_data+'/no',\"../data/interim/no\", \"N_\")"
   ],
   "metadata": {
    "collapsed": false,
    "pycharm": {
     "name": "#%%\n"
    }
   }
  },
  {
   "cell_type": "code",
   "execution_count": 19,
   "outputs": [],
   "source": [
    "non_tumorous_files = utils.data_processing.count_instances(\"../data/interim/no\")\n",
    "yes_tumorous_files = utils.data_processing.count_instances(\"../data/interim/yes\")\n",
    "data = {\"non_tumorous\": non_tumorous_files, \"yes_tumorous\": yes_tumorous_files}"
   ],
   "metadata": {
    "collapsed": false,
    "pycharm": {
     "name": "#%%\n"
    }
   }
  },
  {
   "cell_type": "code",
   "execution_count": 20,
   "outputs": [
    {
     "data": {
      "text/plain": "<Figure size 700x500 with 1 Axes>",
      "image/png": "[encoded data removed]"
     },
     "metadata": {},
     "output_type": "display_data"
    }
   ],
   "source": [
    "typex = [*data.keys()]\n",
    "values = [*data.values()]\n",
    "\n",
    "fig = plt.figure(figsize=(7, 5))\n",
    "plt.bar(typex, values)\n",
    "plt.xlabel(\"Type of data\")\n",
    "plt.ylabel(\"Number of Brain MRI images\")\n",
    "plt.title(\"Number of Brain MRI images per type\")\n",
    "plt.savefig(\"../data/external/number_images\", format=\"png\", dpi=300, bbox_inches=\"tight\")\n",
    "plt.show()"
   ],
   "metadata": {
    "collapsed": false,
    "pycharm": {
     "name": "#%%\n"
    }
   }
  },
  {
   "cell_type": "code",
   "execution_count": 21,
   "outputs": [
    {
     "data": {
      "text/plain": "'Success in making the dataset.'"
     },
     "execution_count": 21,
     "metadata": {},
     "output_type": "execute_result"
    }
   ],
   "source": [
    "#spliting the data into train(0.60), validation(0.20) and test(0.20)\n",
    "import src.data as data\n",
    "from types import SimpleNamespace\n",
    "\n",
    "args = SimpleNamespace(input_filepath=\"../data/interim\",\n",
    "                       output_filepath=\"../data/interim/split\",\n",
    "                       train_ratio=0.6,\n",
    "                       validation_ratio=0.2)\n",
    "data.main(args.input_filepath, args.output_filepath, args.train_ratio, args.validation_ratio)\n"
   ],
   "metadata": {
    "collapsed": false,
    "pycharm": {
     "name": "#%%\n"
    }
   }
  },
  {
   "cell_type": "code",
   "execution_count": 22,
   "outputs": [
    {
     "name": "stdout",
     "output_type": "stream",
     "text": [
      "Time elapsed: 0:1:42.4\n"
     ]
    }
   ],
   "source": [
    "import time\n",
    "start_time = time.time()\n",
    "\n",
    "yes_tumorous_files = \"../data/interim/split/train/yes\"\n",
    "non_tumorous_files = \"../data/interim/split/train/no\"\n",
    "augmented_data_path = \"../data/interim/split/train/augmented/\"\n",
    "utils.make_data_augmented_dataset(yes_tumorous_files, 6, augmented_data_path ,\"yes\")\n",
    "utils.make_data_augmented_dataset(non_tumorous_files, 9, augmented_data_path ,\"no\")\n",
    "end_time = time.time()\n",
    "execution_time = (end_time - start_time)\n",
    "print(f\"Time elapsed: {utils.time_execution(execution_time)}\")"
   ],
   "metadata": {
    "collapsed": false,
    "pycharm": {
     "name": "#%%\n"
    }
   }
  }
 ],
 "metadata": {
  "kernelspec": {
   "display_name": "Python 3",
   "language": "python",
   "name": "python3"
  },
  "language_info": {
   "codemirror_mode": {
    "name": "ipython",
    "version": 2
   },
   "file_extension": ".py",
   "mimetype": "text/x-python",
   "name": "python",
   "nbconvert_exporter": "python",
   "pygments_lexer": "ipython2",
   "version": "2.7.6"
  }
 },
 "nbformat": 4,
 "nbformat_minor": 0
}
