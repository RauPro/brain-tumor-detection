{
 "cells": [
  {
   "cell_type": "code",
   "execution_count": 9,
   "outputs": [
    {
     "name": "stdout",
     "output_type": "stream",
     "text": [
      "GPU: /device:GPU:0\n"
     ]
    }
   ],
   "source": [
    "import os\n",
    "from keras.preprocessing.image import ImageDataGenerator\n",
    "from keras.callbacks import EarlyStopping, ModelCheckpoint, ReduceLROnPlateau\n",
    "from keras import Model\n",
    "from keras.layers import Dense, Flatten, Dropout\n",
    "from keras.applications import VGG19\n",
    "import tensorflow as tf\n",
    "device_name = tf.test.gpu_device_name()\n",
    "if device_name != '/device:GPU:0':\n",
    "    raise SystemError('GPU not found')\n",
    "print('GPU: {}'.format(device_name))"
   ],
   "metadata": {
    "collapsed": false
   }
  },
  {
   "cell_type": "code",
   "execution_count": 10,
   "outputs": [],
   "source": [
    "base_dir = \"../data/processed\"\n",
    "train_dir = os.path.join(base_dir, 'train')\n",
    "validation_dir = os.path.join(base_dir, 'validation')"
   ],
   "metadata": {
    "collapsed": false
   }
  },
  {
   "cell_type": "code",
   "execution_count": 11,
   "outputs": [
    {
     "name": "stdout",
     "output_type": "stream",
     "text": [
      "Found 1231 images belonging to 2 classes.\n",
      "Found 50 images belonging to 2 classes.\n"
     ]
    }
   ],
   "source": [
    "\n",
    "train_datagen = ImageDataGenerator(rescale=1./255.,\n",
    "                                   horizontal_flip=0.4,\n",
    "                                   vertical_flip=0.4,\n",
    "                                   rotation_range=40,\n",
    "                                   shear_range=0.2,\n",
    "                                   width_shift_range=0.4,\n",
    "                                   height_shift_range=0.4,\n",
    "                                   fill_mode='nearest')\n",
    "valid_datagen = ImageDataGenerator(rescale=1.0/255.)\n",
    "test_datagen = ImageDataGenerator(rescale=1.0/255.)\n",
    "\n",
    "train_generator = train_datagen.flow_from_directory(train_dir,\n",
    "                                                    batch_size=10,\n",
    "                                                    target_size=(240,240),\n",
    "                                                    class_mode='categorical',\n",
    "                                                    shuffle=True,\n",
    "                                                    seed=42,\n",
    "                                                    color_mode='rgb')\n",
    "\n",
    "valid_generator = valid_datagen.flow_from_directory(validation_dir,\n",
    "                                                    batch_size=5,\n",
    "                                                    target_size=(240, 240),\n",
    "                                                    class_mode='categorical',\n",
    "                                                    shuffle=True,\n",
    "                                                    seed=42,\n",
    "                                                    color_mode='rgb')\n",
    "\n",
    "class_labels = train_generator.class_indices\n",
    "class_names = {value:key for (key, value) in class_labels.items()}"
   ],
   "metadata": {
    "collapsed": false
   }
  },
  {
   "cell_type": "code",
   "execution_count": 12,
   "outputs": [
    {
     "ename": "ResourceExhaustedError",
     "evalue": "{{function_node __wrapped__StatelessRandomUniformV2_device_/job:localhost/replica:0/task:0/device:GPU:0}} OOM when allocating tensor with shape[25088,4608] and type float on /job:localhost/replica:0/task:0/device:GPU:0 by allocator GPU_0_bfc [Op:StatelessRandomUniformV2]",
     "output_type": "error",
     "traceback": [
      "\u001B[1;31m---------------------------------------------------------------------------\u001B[0m",
      "\u001B[1;31mResourceExhaustedError\u001B[0m                    Traceback (most recent call last)",
      "Cell \u001B[1;32mIn[12], line 13\u001B[0m\n\u001B[0;32m     10\u001B[0m flat\u001B[38;5;241m=\u001B[39mFlatten()(x)\n\u001B[0;32m     12\u001B[0m \u001B[38;5;66;03m# Add a classifier -  a fully connected dense layers\u001B[39;00m\n\u001B[1;32m---> 13\u001B[0m class_1 \u001B[38;5;241m=\u001B[39m \u001B[43mDense\u001B[49m\u001B[43m(\u001B[49m\u001B[38;5;241;43m4608\u001B[39;49m\u001B[43m,\u001B[49m\u001B[43m \u001B[49m\u001B[43mactivation\u001B[49m\u001B[38;5;241;43m=\u001B[39;49m\u001B[38;5;124;43m'\u001B[39;49m\u001B[38;5;124;43mrelu\u001B[39;49m\u001B[38;5;124;43m'\u001B[39;49m\u001B[43m)\u001B[49m\u001B[43m(\u001B[49m\u001B[43mflat\u001B[49m\u001B[43m)\u001B[49m\n\u001B[0;32m     14\u001B[0m drop_out \u001B[38;5;241m=\u001B[39m Dropout(\u001B[38;5;241m0.2\u001B[39m)(class_1)\n\u001B[0;32m     15\u001B[0m class_2 \u001B[38;5;241m=\u001B[39m Dense(\u001B[38;5;241m1152\u001B[39m, activation\u001B[38;5;241m=\u001B[39m\u001B[38;5;124m'\u001B[39m\u001B[38;5;124mrelu\u001B[39m\u001B[38;5;124m'\u001B[39m)(drop_out)\n",
      "File \u001B[1;32m~\\anaconda3\\conda\\envs\\gpu\\lib\\site-packages\\keras\\utils\\traceback_utils.py:70\u001B[0m, in \u001B[0;36mfilter_traceback.<locals>.error_handler\u001B[1;34m(*args, **kwargs)\u001B[0m\n\u001B[0;32m     67\u001B[0m     filtered_tb \u001B[38;5;241m=\u001B[39m _process_traceback_frames(e\u001B[38;5;241m.\u001B[39m__traceback__)\n\u001B[0;32m     68\u001B[0m     \u001B[38;5;66;03m# To get the full stack trace, call:\u001B[39;00m\n\u001B[0;32m     69\u001B[0m     \u001B[38;5;66;03m# `tf.debugging.disable_traceback_filtering()`\u001B[39;00m\n\u001B[1;32m---> 70\u001B[0m     \u001B[38;5;28;01mraise\u001B[39;00m e\u001B[38;5;241m.\u001B[39mwith_traceback(filtered_tb) \u001B[38;5;28;01mfrom\u001B[39;00m \u001B[38;5;28mNone\u001B[39m\n\u001B[0;32m     71\u001B[0m \u001B[38;5;28;01mfinally\u001B[39;00m:\n\u001B[0;32m     72\u001B[0m     \u001B[38;5;28;01mdel\u001B[39;00m filtered_tb\n",
      "File \u001B[1;32m~\\anaconda3\\conda\\envs\\gpu\\lib\\site-packages\\keras\\backend.py:2100\u001B[0m, in \u001B[0;36mRandomGenerator.random_uniform\u001B[1;34m(self, shape, minval, maxval, dtype, nonce)\u001B[0m\n\u001B[0;32m   2098\u001B[0m     \u001B[38;5;28;01mif\u001B[39;00m nonce:\n\u001B[0;32m   2099\u001B[0m         seed \u001B[38;5;241m=\u001B[39m tf\u001B[38;5;241m.\u001B[39mrandom\u001B[38;5;241m.\u001B[39mexperimental\u001B[38;5;241m.\u001B[39mstateless_fold_in(seed, nonce)\n\u001B[1;32m-> 2100\u001B[0m     \u001B[38;5;28;01mreturn\u001B[39;00m \u001B[43mtf\u001B[49m\u001B[38;5;241;43m.\u001B[39;49m\u001B[43mrandom\u001B[49m\u001B[38;5;241;43m.\u001B[39;49m\u001B[43mstateless_uniform\u001B[49m\u001B[43m(\u001B[49m\n\u001B[0;32m   2101\u001B[0m \u001B[43m        \u001B[49m\u001B[43mshape\u001B[49m\u001B[38;5;241;43m=\u001B[39;49m\u001B[43mshape\u001B[49m\u001B[43m,\u001B[49m\n\u001B[0;32m   2102\u001B[0m \u001B[43m        \u001B[49m\u001B[43mminval\u001B[49m\u001B[38;5;241;43m=\u001B[39;49m\u001B[43mminval\u001B[49m\u001B[43m,\u001B[49m\n\u001B[0;32m   2103\u001B[0m \u001B[43m        \u001B[49m\u001B[43mmaxval\u001B[49m\u001B[38;5;241;43m=\u001B[39;49m\u001B[43mmaxval\u001B[49m\u001B[43m,\u001B[49m\n\u001B[0;32m   2104\u001B[0m \u001B[43m        \u001B[49m\u001B[43mdtype\u001B[49m\u001B[38;5;241;43m=\u001B[39;49m\u001B[43mdtype\u001B[49m\u001B[43m,\u001B[49m\n\u001B[0;32m   2105\u001B[0m \u001B[43m        \u001B[49m\u001B[43mseed\u001B[49m\u001B[38;5;241;43m=\u001B[39;49m\u001B[43mseed\u001B[49m\u001B[43m,\u001B[49m\n\u001B[0;32m   2106\u001B[0m \u001B[43m    \u001B[49m\u001B[43m)\u001B[49m\n\u001B[0;32m   2107\u001B[0m \u001B[38;5;28;01mreturn\u001B[39;00m tf\u001B[38;5;241m.\u001B[39mrandom\u001B[38;5;241m.\u001B[39muniform(\n\u001B[0;32m   2108\u001B[0m     shape\u001B[38;5;241m=\u001B[39mshape,\n\u001B[0;32m   2109\u001B[0m     minval\u001B[38;5;241m=\u001B[39mminval,\n\u001B[1;32m   (...)\u001B[0m\n\u001B[0;32m   2112\u001B[0m     seed\u001B[38;5;241m=\u001B[39m\u001B[38;5;28mself\u001B[39m\u001B[38;5;241m.\u001B[39mmake_legacy_seed(),\n\u001B[0;32m   2113\u001B[0m )\n",
      "\u001B[1;31mResourceExhaustedError\u001B[0m: {{function_node __wrapped__StatelessRandomUniformV2_device_/job:localhost/replica:0/task:0/device:GPU:0}} OOM when allocating tensor with shape[25088,4608] and type float on /job:localhost/replica:0/task:0/device:GPU:0 by allocator GPU_0_bfc [Op:StatelessRandomUniformV2]"
     ]
    }
   ],
   "source": [
    "\n",
    "# Instantiate VGG19 model with weights from Imagenet without the calssifier at the top\n",
    "base_model = VGG19(input_shape = (240,240,3),\n",
    "                   include_top = False,\n",
    "                   weights = 'imagenet')\n",
    "# Freeze the ConvNet to avoid weight updates\n",
    "for layer in base_model.layers:\n",
    "    layer.trainable=False\n",
    "\n",
    "x = base_model.output\n",
    "flat=Flatten()(x)\n",
    "\n",
    "# Add a classifier -  a fully connected dense layers\n",
    "class_1 = Dense(4608, activation='relu')(flat)\n",
    "drop_out = Dropout(0.2)(class_1)\n",
    "class_2 = Dense(1152, activation='relu')(drop_out)\n",
    "output = Dense(2, activation='softmax')(class_2)\n",
    "\n",
    "# Bake a model\n",
    "model_01 = Model(base_model.inputs, output)\n",
    "model_01.summary()\n",
    "\n",
    "# Call backs\n",
    "filepath = 'models/model.h5'\n",
    "es = EarlyStopping(monitor='val_loss', verbose=1, mode='min', patience=4)\n",
    "cp = ModelCheckpoint(filepath, monitor='val_loss', verbose=1, save_best_only=True,\n",
    "                     save_weights_only=False, mode='auto', save_freq='epoch')\n",
    "lrr = ReduceLROnPlateau(monitor='val_accuracy',patience=3,verbose=1,factor=0.5,min_lr=0.0001)\n",
    "\n",
    "# Define an optimizer\n",
    "sgd = tf.keras.optimizers.legacy.SGD(learning_rate=.0001, decay=1e-6, momentum=0.9, nesterov=True)\n",
    "\n",
    "# Compile the model\n",
    "model_01.compile(loss=\"categorical_crossentropy\", optimizer=sgd, metrics=[\"accuracy\"])"
   ],
   "metadata": {
    "collapsed": false
   }
  },
  {
   "cell_type": "code",
   "execution_count": null,
   "outputs": [],
   "source": [],
   "metadata": {
    "collapsed": false
   }
  },
  {
   "cell_type": "code",
   "execution_count": null,
   "outputs": [],
   "source": [
    "history_01 = model_01.fit(train_generator,\n",
    "                          steps_per_epoch=10,\n",
    "                          epochs=20,\n",
    "                          callbacks = [es, cp, lrr],\n",
    "                          validation_data = valid_generator)"
   ],
   "metadata": {
    "collapsed": false
   }
  },
  {
   "cell_type": "code",
   "execution_count": null,
   "outputs": [],
   "source": [],
   "metadata": {
    "collapsed": false
   }
  }
 ],
 "metadata": {
  "kernelspec": {
   "display_name": "Python 3",
   "language": "python",
   "name": "python3"
  },
  "language_info": {
   "codemirror_mode": {
    "name": "ipython",
    "version": 2
   },
   "file_extension": ".py",
   "mimetype": "text/x-python",
   "name": "python",
   "nbconvert_exporter": "python",
   "pygments_lexer": "ipython2",
   "version": "2.7.6"
  }
 },
 "nbformat": 4,
 "nbformat_minor": 0
}
